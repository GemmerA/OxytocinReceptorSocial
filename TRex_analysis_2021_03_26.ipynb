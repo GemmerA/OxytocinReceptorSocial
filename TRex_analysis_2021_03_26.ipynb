{
 "cells": [
  {
   "cell_type": "code",
   "execution_count": 1,
   "metadata": {},
   "outputs": [],
   "source": [
    "import os\n",
    "import numpy as np\n",
    "import pandas as pd\n",
    "from scipy.spatial import distance\n",
    "import matplotlib.pyplot as plt\n",
    "import pickle\n",
    "from math import inf"
   ]
  },
  {
   "cell_type": "code",
   "execution_count": 2,
   "metadata": {},
   "outputs": [],
   "source": [
    "age_to_be_analysed = 56 # change to 28 if you need to\n",
    "\n",
    "if age_to_be_analysed == 28:\n",
    "    data_folder = \"//storage.corp.brain.mpg.de/data/Projects/Fritz_Lukas/trex_videos/data/1mpf\"\n",
    "elif age_to_be_analysed == 56:\n",
    "    data_folder = \"//storage.corp.brain.mpg.de/data/Projects/Fritz_Lukas/trex_videos/data/2mpf\"\n",
    "\n",
    "file_list = pd.Series(os.listdir(data_folder))\n",
    "file_list.columns =  [\"files\"]\n",
    "\n",
    "# filter for tracking data (statistics folder not relevant for now)\n",
    "fish_id = file_list.str.contains(\"fish\")\n",
    "file_list_filtered = file_list.loc[fish_id]\n",
    "\n",
    "# identify genotypes and number of videos for each, save as dictionary.\n",
    "string_split_list = pd.DataFrame(file_list_filtered.str.split(\"_\"))\n",
    "string_split_list.columns = [\"split_string\"]\n",
    "id_df = pd.DataFrame(string_split_list.split_string.tolist(), columns = ['age', 'genotype', 'video', 'fish'])\n",
    "genotypes = id_df['genotype'].unique()\n",
    "for genotype in genotypes:\n",
    "    genotype_videos = []\n",
    "    videos = id_df.loc[id_df['genotype'] == genotype]['video'].unique()\n",
    "    if 'data_dict' not in locals():\n",
    "        data_dict = {genotype: videos.tolist()}\n",
    "        fish = id_df.loc[id_df['genotype'] == genotype]['fish'].unique().tolist()\n",
    "    else:\n",
    "        data_dict.update({genotype: videos.tolist()})\n",
    "        \n",
    "data_folder = data_folder + \"/\" + id_df['age'][0]"
   ]
  },
  {
   "cell_type": "code",
   "execution_count": 3,
   "metadata": {},
   "outputs": [],
   "source": [
    "# change the value below to 1 if you want to get the pictures with the individual trajectories\n",
    "plot_trajectories = 0"
   ]
  },
  {
   "cell_type": "code",
   "execution_count": 4,
   "metadata": {
    "scrolled": false
   },
   "outputs": [
    {
     "name": "stdout",
     "output_type": "stream",
     "text": [
      "Analysis of: MT02KO, video 01\n",
      "Analysis of: MT02KO, video 19\n",
      "Analysis of: MT02KO, video 20\n",
      "Analysis of: MT02KO, video 09\n",
      "Analysis of: MT02KO, video 21\n"
     ]
    },
    {
     "name": "stderr",
     "output_type": "stream",
     "text": [
      "C:\\Users\\gemmera\\Anaconda3\\lib\\site-packages\\numpy\\lib\\nanfunctions.py:1113: RuntimeWarning: All-NaN slice encountered\n",
      "  r, k = function_base._ureduce(a, func=_nanmedian, axis=axis, out=out,\n",
      "<ipython-input-4-22cb2c2c7178>:59: RuntimeWarning: Mean of empty slice\n",
      "  velocity_mean = np.nanmean(velocity, axis = 1)\n"
     ]
    },
    {
     "name": "stdout",
     "output_type": "stream",
     "text": [
      "Analysis of: MT02KO, video 23\n",
      "Analysis of: MT02KO, video 02\n",
      "Analysis of: MT02KO, video 03\n",
      "Analysis of: MT02KO, video 04\n",
      "Analysis of: MT02KO, video 05\n",
      "Analysis of: MT02KO, video 06\n",
      "Analysis of: MT02KO, video 07\n"
     ]
    },
    {
     "name": "stderr",
     "output_type": "stream",
     "text": [
      "C:\\Users\\gemmera\\Anaconda3\\lib\\site-packages\\numpy\\lib\\nanfunctions.py:1113: RuntimeWarning: All-NaN slice encountered\n",
      "  r, k = function_base._ureduce(a, func=_nanmedian, axis=axis, out=out,\n",
      "<ipython-input-4-22cb2c2c7178>:59: RuntimeWarning: Mean of empty slice\n",
      "  velocity_mean = np.nanmean(velocity, axis = 1)\n"
     ]
    },
    {
     "name": "stdout",
     "output_type": "stream",
     "text": [
      "Analysis of: MT02KO, video 08\n"
     ]
    },
    {
     "name": "stderr",
     "output_type": "stream",
     "text": [
      "C:\\Users\\gemmera\\Anaconda3\\lib\\site-packages\\numpy\\lib\\nanfunctions.py:1113: RuntimeWarning: All-NaN slice encountered\n",
      "  r, k = function_base._ureduce(a, func=_nanmedian, axis=axis, out=out,\n",
      "<ipython-input-4-22cb2c2c7178>:59: RuntimeWarning: Mean of empty slice\n",
      "  velocity_mean = np.nanmean(velocity, axis = 1)\n"
     ]
    },
    {
     "name": "stdout",
     "output_type": "stream",
     "text": [
      "Analysis of: MT02KO, video 10\n"
     ]
    },
    {
     "name": "stderr",
     "output_type": "stream",
     "text": [
      "C:\\Users\\gemmera\\Anaconda3\\lib\\site-packages\\numpy\\lib\\nanfunctions.py:1113: RuntimeWarning: All-NaN slice encountered\n",
      "  r, k = function_base._ureduce(a, func=_nanmedian, axis=axis, out=out,\n",
      "<ipython-input-4-22cb2c2c7178>:59: RuntimeWarning: Mean of empty slice\n",
      "  velocity_mean = np.nanmean(velocity, axis = 1)\n"
     ]
    },
    {
     "name": "stdout",
     "output_type": "stream",
     "text": [
      "Analysis of: MT02KO, video 11\n",
      "Analysis of: MT02KO, video 12\n",
      "Analysis of: MT02KO, video 22\n"
     ]
    },
    {
     "name": "stderr",
     "output_type": "stream",
     "text": [
      "C:\\Users\\gemmera\\Anaconda3\\lib\\site-packages\\numpy\\lib\\nanfunctions.py:1113: RuntimeWarning: All-NaN slice encountered\n",
      "  r, k = function_base._ureduce(a, func=_nanmedian, axis=axis, out=out,\n",
      "<ipython-input-4-22cb2c2c7178>:59: RuntimeWarning: Mean of empty slice\n",
      "  velocity_mean = np.nanmean(velocity, axis = 1)\n"
     ]
    },
    {
     "name": "stdout",
     "output_type": "stream",
     "text": [
      "Analysis of: MT02KO, video 13\n",
      "Analysis of: MT02KO, video 14\n",
      "Analysis of: MT02KO, video 15\n",
      "Analysis of: MT02KO, video 16\n",
      "Analysis of: MT02KO, video 18\n",
      "Analysis of: MT02KO, video 17\n",
      "Analysis of: ILR2w, video 25\n",
      "Analysis of: ILR2w, video 3\n"
     ]
    },
    {
     "name": "stderr",
     "output_type": "stream",
     "text": [
      "C:\\Users\\gemmera\\Anaconda3\\lib\\site-packages\\numpy\\lib\\nanfunctions.py:1113: RuntimeWarning: All-NaN slice encountered\n",
      "  r, k = function_base._ureduce(a, func=_nanmedian, axis=axis, out=out,\n",
      "<ipython-input-4-22cb2c2c7178>:59: RuntimeWarning: Mean of empty slice\n",
      "  velocity_mean = np.nanmean(velocity, axis = 1)\n"
     ]
    },
    {
     "name": "stdout",
     "output_type": "stream",
     "text": [
      "Analysis of: ILR2w, video 10\n",
      "Analysis of: ILR2w, video 1\n",
      "Analysis of: ILR2w, video 2\n",
      "Analysis of: ILR2w, video 4\n",
      "Analysis of: ILR2w, video 5\n",
      "Analysis of: ILR2w, video 6\n",
      "Analysis of: ILR2w, video 7\n",
      "Analysis of: ILR2w, video 9\n",
      "Analysis of: ILR2w, video 11\n",
      "Analysis of: ILR2w, video 12\n",
      "Analysis of: ILR2w, video 13\n"
     ]
    },
    {
     "name": "stderr",
     "output_type": "stream",
     "text": [
      "C:\\Users\\gemmera\\Anaconda3\\lib\\site-packages\\numpy\\lib\\nanfunctions.py:1113: RuntimeWarning: All-NaN slice encountered\n",
      "  r, k = function_base._ureduce(a, func=_nanmedian, axis=axis, out=out,\n",
      "<ipython-input-4-22cb2c2c7178>:59: RuntimeWarning: Mean of empty slice\n",
      "  velocity_mean = np.nanmean(velocity, axis = 1)\n"
     ]
    },
    {
     "name": "stdout",
     "output_type": "stream",
     "text": [
      "Analysis of: ILR2w, video 14\n",
      "Analysis of: ILR2w, video 15\n"
     ]
    },
    {
     "name": "stderr",
     "output_type": "stream",
     "text": [
      "C:\\Users\\gemmera\\Anaconda3\\lib\\site-packages\\numpy\\lib\\nanfunctions.py:1113: RuntimeWarning: All-NaN slice encountered\n",
      "  r, k = function_base._ureduce(a, func=_nanmedian, axis=axis, out=out,\n",
      "<ipython-input-4-22cb2c2c7178>:59: RuntimeWarning: Mean of empty slice\n",
      "  velocity_mean = np.nanmean(velocity, axis = 1)\n"
     ]
    },
    {
     "name": "stdout",
     "output_type": "stream",
     "text": [
      "Analysis of: ILR2w, video 16\n",
      "Analysis of: ILR2w, video 18\n"
     ]
    },
    {
     "name": "stderr",
     "output_type": "stream",
     "text": [
      "C:\\Users\\gemmera\\Anaconda3\\lib\\site-packages\\numpy\\lib\\nanfunctions.py:1113: RuntimeWarning: All-NaN slice encountered\n",
      "  r, k = function_base._ureduce(a, func=_nanmedian, axis=axis, out=out,\n",
      "<ipython-input-4-22cb2c2c7178>:59: RuntimeWarning: Mean of empty slice\n",
      "  velocity_mean = np.nanmean(velocity, axis = 1)\n"
     ]
    },
    {
     "name": "stdout",
     "output_type": "stream",
     "text": [
      "Analysis of: ILR2w, video 19\n",
      "Analysis of: ILR2w, video 20\n"
     ]
    },
    {
     "name": "stderr",
     "output_type": "stream",
     "text": [
      "C:\\Users\\gemmera\\Anaconda3\\lib\\site-packages\\numpy\\lib\\nanfunctions.py:1113: RuntimeWarning: All-NaN slice encountered\n",
      "  r, k = function_base._ureduce(a, func=_nanmedian, axis=axis, out=out,\n",
      "<ipython-input-4-22cb2c2c7178>:59: RuntimeWarning: Mean of empty slice\n",
      "  velocity_mean = np.nanmean(velocity, axis = 1)\n"
     ]
    },
    {
     "name": "stdout",
     "output_type": "stream",
     "text": [
      "Analysis of: ILR2w, video 21\n",
      "Analysis of: ILR2w, video 22\n",
      "Analysis of: ILR2w, video 23\n"
     ]
    },
    {
     "name": "stderr",
     "output_type": "stream",
     "text": [
      "C:\\Users\\gemmera\\Anaconda3\\lib\\site-packages\\numpy\\lib\\nanfunctions.py:1113: RuntimeWarning: All-NaN slice encountered\n",
      "  r, k = function_base._ureduce(a, func=_nanmedian, axis=axis, out=out,\n",
      "<ipython-input-4-22cb2c2c7178>:59: RuntimeWarning: Mean of empty slice\n",
      "  velocity_mean = np.nanmean(velocity, axis = 1)\n"
     ]
    },
    {
     "name": "stdout",
     "output_type": "stream",
     "text": [
      "Analysis of: ILR2w, video 24\n",
      "Analysis of: ILR2w, video 8\n",
      "Analysis of: ILR1K, video 1\n"
     ]
    },
    {
     "name": "stderr",
     "output_type": "stream",
     "text": [
      "C:\\Users\\gemmera\\Anaconda3\\lib\\site-packages\\numpy\\lib\\nanfunctions.py:1113: RuntimeWarning: All-NaN slice encountered\n",
      "  r, k = function_base._ureduce(a, func=_nanmedian, axis=axis, out=out,\n",
      "<ipython-input-4-22cb2c2c7178>:59: RuntimeWarning: Mean of empty slice\n",
      "  velocity_mean = np.nanmean(velocity, axis = 1)\n"
     ]
    },
    {
     "name": "stdout",
     "output_type": "stream",
     "text": [
      "Analysis of: ILR1K, video 2\n",
      "Analysis of: ILR1K, video 3\n",
      "Analysis of: ILR1K, video 4\n",
      "Analysis of: ILR1K, video 5\n"
     ]
    },
    {
     "name": "stderr",
     "output_type": "stream",
     "text": [
      "C:\\Users\\gemmera\\Anaconda3\\lib\\site-packages\\numpy\\lib\\nanfunctions.py:1113: RuntimeWarning: All-NaN slice encountered\n",
      "  r, k = function_base._ureduce(a, func=_nanmedian, axis=axis, out=out,\n",
      "<ipython-input-4-22cb2c2c7178>:59: RuntimeWarning: Mean of empty slice\n",
      "  velocity_mean = np.nanmean(velocity, axis = 1)\n"
     ]
    },
    {
     "name": "stdout",
     "output_type": "stream",
     "text": [
      "Analysis of: ILR1K, video 6\n",
      "Analysis of: ILR1K, video 7\n",
      "Analysis of: ILR1K, video 8\n",
      "Analysis of: ILR1K, video 10\n"
     ]
    },
    {
     "name": "stderr",
     "output_type": "stream",
     "text": [
      "C:\\Users\\gemmera\\Anaconda3\\lib\\site-packages\\numpy\\lib\\nanfunctions.py:1113: RuntimeWarning: All-NaN slice encountered\n",
      "  r, k = function_base._ureduce(a, func=_nanmedian, axis=axis, out=out,\n",
      "<ipython-input-4-22cb2c2c7178>:59: RuntimeWarning: Mean of empty slice\n",
      "  velocity_mean = np.nanmean(velocity, axis = 1)\n"
     ]
    },
    {
     "name": "stdout",
     "output_type": "stream",
     "text": [
      "Analysis of: ILR1K, video 11\n",
      "Analysis of: ILR1K, video 12\n",
      "Analysis of: ILR1K, video 13\n"
     ]
    },
    {
     "name": "stderr",
     "output_type": "stream",
     "text": [
      "C:\\Users\\gemmera\\Anaconda3\\lib\\site-packages\\numpy\\lib\\nanfunctions.py:1113: RuntimeWarning: All-NaN slice encountered\n",
      "  r, k = function_base._ureduce(a, func=_nanmedian, axis=axis, out=out,\n",
      "<ipython-input-4-22cb2c2c7178>:59: RuntimeWarning: Mean of empty slice\n",
      "  velocity_mean = np.nanmean(velocity, axis = 1)\n"
     ]
    },
    {
     "name": "stdout",
     "output_type": "stream",
     "text": [
      "Analysis of: ILR1K, video 14\n",
      "Analysis of: ILR1K, video 15\n",
      "Analysis of: ILR1K, video 16\n",
      "Analysis of: ILR1K, video 17\n",
      "Analysis of: ILR1K, video 18\n",
      "Analysis of: ILR1K, video 19\n",
      "Analysis of: ILR1K, video 20\n",
      "Analysis of: ILR1K, video 21\n",
      "Analysis of: ILR1K, video 22\n",
      "Analysis of: ILR1K, video 23\n",
      "Analysis of: ILR1K, video 24\n",
      "Analysis of: ILR1w, video 1\n",
      "Analysis of: ILR1w, video 2\n",
      "Analysis of: ILR1w, video 4\n",
      "Analysis of: ILR1w, video 5\n",
      "Analysis of: ILR1w, video 6\n"
     ]
    },
    {
     "name": "stderr",
     "output_type": "stream",
     "text": [
      "C:\\Users\\gemmera\\Anaconda3\\lib\\site-packages\\numpy\\lib\\nanfunctions.py:1113: RuntimeWarning: All-NaN slice encountered\n",
      "  r, k = function_base._ureduce(a, func=_nanmedian, axis=axis, out=out,\n",
      "<ipython-input-4-22cb2c2c7178>:59: RuntimeWarning: Mean of empty slice\n",
      "  velocity_mean = np.nanmean(velocity, axis = 1)\n"
     ]
    },
    {
     "name": "stdout",
     "output_type": "stream",
     "text": [
      "Analysis of: ILR1w, video 7\n",
      "Analysis of: ILR1w, video 8\n",
      "Analysis of: ILR1w, video 9\n"
     ]
    },
    {
     "name": "stderr",
     "output_type": "stream",
     "text": [
      "C:\\Users\\gemmera\\Anaconda3\\lib\\site-packages\\numpy\\lib\\nanfunctions.py:1113: RuntimeWarning: All-NaN slice encountered\n",
      "  r, k = function_base._ureduce(a, func=_nanmedian, axis=axis, out=out,\n",
      "<ipython-input-4-22cb2c2c7178>:59: RuntimeWarning: Mean of empty slice\n",
      "  velocity_mean = np.nanmean(velocity, axis = 1)\n"
     ]
    },
    {
     "name": "stdout",
     "output_type": "stream",
     "text": [
      "Analysis of: ILR1w, video 10\n",
      "Analysis of: ILR1w, video 12\n",
      "Analysis of: ILR1w, video 13\n",
      "Analysis of: ILR1w, video 14\n"
     ]
    },
    {
     "name": "stderr",
     "output_type": "stream",
     "text": [
      "C:\\Users\\gemmera\\Anaconda3\\lib\\site-packages\\numpy\\lib\\nanfunctions.py:1113: RuntimeWarning: All-NaN slice encountered\n",
      "  r, k = function_base._ureduce(a, func=_nanmedian, axis=axis, out=out,\n",
      "<ipython-input-4-22cb2c2c7178>:59: RuntimeWarning: Mean of empty slice\n",
      "  velocity_mean = np.nanmean(velocity, axis = 1)\n"
     ]
    },
    {
     "name": "stdout",
     "output_type": "stream",
     "text": [
      "Analysis of: ILR1w, video 15\n"
     ]
    },
    {
     "name": "stderr",
     "output_type": "stream",
     "text": [
      "C:\\Users\\gemmera\\Anaconda3\\lib\\site-packages\\numpy\\lib\\nanfunctions.py:1113: RuntimeWarning: All-NaN slice encountered\n",
      "  r, k = function_base._ureduce(a, func=_nanmedian, axis=axis, out=out,\n",
      "<ipython-input-4-22cb2c2c7178>:59: RuntimeWarning: Mean of empty slice\n",
      "  velocity_mean = np.nanmean(velocity, axis = 1)\n"
     ]
    },
    {
     "name": "stdout",
     "output_type": "stream",
     "text": [
      "Analysis of: ILR1w, video 16\n",
      "Analysis of: ILR1w, video 17\n",
      "Analysis of: ILR1w, video 18\n"
     ]
    },
    {
     "name": "stderr",
     "output_type": "stream",
     "text": [
      "C:\\Users\\gemmera\\Anaconda3\\lib\\site-packages\\numpy\\lib\\nanfunctions.py:1113: RuntimeWarning: All-NaN slice encountered\n",
      "  r, k = function_base._ureduce(a, func=_nanmedian, axis=axis, out=out,\n",
      "<ipython-input-4-22cb2c2c7178>:59: RuntimeWarning: Mean of empty slice\n",
      "  velocity_mean = np.nanmean(velocity, axis = 1)\n"
     ]
    },
    {
     "name": "stdout",
     "output_type": "stream",
     "text": [
      "Analysis of: ILR1w, video 20\n",
      "Analysis of: ILR1w, video 21\n"
     ]
    },
    {
     "name": "stderr",
     "output_type": "stream",
     "text": [
      "C:\\Users\\gemmera\\Anaconda3\\lib\\site-packages\\numpy\\lib\\nanfunctions.py:1113: RuntimeWarning: All-NaN slice encountered\n",
      "  r, k = function_base._ureduce(a, func=_nanmedian, axis=axis, out=out,\n",
      "<ipython-input-4-22cb2c2c7178>:59: RuntimeWarning: Mean of empty slice\n",
      "  velocity_mean = np.nanmean(velocity, axis = 1)\n"
     ]
    },
    {
     "name": "stdout",
     "output_type": "stream",
     "text": [
      "Analysis of: ILR1w, video 22\n",
      "Analysis of: ILR1w, video 24\n",
      "Analysis of: ILR1w, video 25\n",
      "Analysis of: ILR1w, video 3\n",
      "Analysis of: ILR2K, video 18\n",
      "Analysis of: ILR2K, video 1\n",
      "Analysis of: ILR2K, video 2\n"
     ]
    },
    {
     "name": "stderr",
     "output_type": "stream",
     "text": [
      "C:\\Users\\gemmera\\Anaconda3\\lib\\site-packages\\numpy\\lib\\nanfunctions.py:1113: RuntimeWarning: All-NaN slice encountered\n",
      "  r, k = function_base._ureduce(a, func=_nanmedian, axis=axis, out=out,\n",
      "<ipython-input-4-22cb2c2c7178>:59: RuntimeWarning: Mean of empty slice\n",
      "  velocity_mean = np.nanmean(velocity, axis = 1)\n"
     ]
    },
    {
     "name": "stdout",
     "output_type": "stream",
     "text": [
      "Analysis of: ILR2K, video 3\n",
      "Analysis of: ILR2K, video 4\n",
      "Analysis of: ILR2K, video 5\n",
      "Analysis of: ILR2K, video 6\n",
      "Analysis of: ILR2K, video 7\n",
      "Analysis of: ILR2K, video 8\n",
      "Analysis of: ILR2K, video 9\n",
      "Analysis of: ILR2K, video 13\n",
      "Analysis of: ILR2K, video 14\n",
      "Analysis of: ILR2K, video 15\n"
     ]
    },
    {
     "name": "stderr",
     "output_type": "stream",
     "text": [
      "C:\\Users\\gemmera\\Anaconda3\\lib\\site-packages\\numpy\\lib\\nanfunctions.py:1113: RuntimeWarning: All-NaN slice encountered\n",
      "  r, k = function_base._ureduce(a, func=_nanmedian, axis=axis, out=out,\n",
      "<ipython-input-4-22cb2c2c7178>:59: RuntimeWarning: Mean of empty slice\n",
      "  velocity_mean = np.nanmean(velocity, axis = 1)\n"
     ]
    },
    {
     "name": "stdout",
     "output_type": "stream",
     "text": [
      "Analysis of: ILR2K, video 16\n"
     ]
    },
    {
     "name": "stderr",
     "output_type": "stream",
     "text": [
      "C:\\Users\\gemmera\\Anaconda3\\lib\\site-packages\\numpy\\lib\\nanfunctions.py:1113: RuntimeWarning: All-NaN slice encountered\n",
      "  r, k = function_base._ureduce(a, func=_nanmedian, axis=axis, out=out,\n",
      "<ipython-input-4-22cb2c2c7178>:59: RuntimeWarning: Mean of empty slice\n",
      "  velocity_mean = np.nanmean(velocity, axis = 1)\n"
     ]
    },
    {
     "name": "stdout",
     "output_type": "stream",
     "text": [
      "Analysis of: ILR2K, video 17\n",
      "Analysis of: ILR2K, video 19\n",
      "Analysis of: ILR2K, video 20\n",
      "Analysis of: ILR2K, video 21\n",
      "Analysis of: ILR2K, video 22\n"
     ]
    },
    {
     "name": "stderr",
     "output_type": "stream",
     "text": [
      "C:\\Users\\gemmera\\Anaconda3\\lib\\site-packages\\numpy\\lib\\nanfunctions.py:1113: RuntimeWarning: All-NaN slice encountered\n",
      "  r, k = function_base._ureduce(a, func=_nanmedian, axis=axis, out=out,\n",
      "<ipython-input-4-22cb2c2c7178>:59: RuntimeWarning: Mean of empty slice\n",
      "  velocity_mean = np.nanmean(velocity, axis = 1)\n"
     ]
    },
    {
     "name": "stdout",
     "output_type": "stream",
     "text": [
      "Analysis of: ILR2K, video 23\n",
      "Analysis of: ILR2K, video 24\n",
      "Analysis of: MT02WT, video 09\n"
     ]
    },
    {
     "name": "stderr",
     "output_type": "stream",
     "text": [
      "C:\\Users\\gemmera\\Anaconda3\\lib\\site-packages\\numpy\\lib\\nanfunctions.py:1113: RuntimeWarning: All-NaN slice encountered\n",
      "  r, k = function_base._ureduce(a, func=_nanmedian, axis=axis, out=out,\n",
      "<ipython-input-4-22cb2c2c7178>:59: RuntimeWarning: Mean of empty slice\n",
      "  velocity_mean = np.nanmean(velocity, axis = 1)\n"
     ]
    },
    {
     "name": "stdout",
     "output_type": "stream",
     "text": [
      "Analysis of: MT02WT, video 01\n",
      "Analysis of: MT02WT, video 02\n"
     ]
    },
    {
     "name": "stderr",
     "output_type": "stream",
     "text": [
      "C:\\Users\\gemmera\\Anaconda3\\lib\\site-packages\\numpy\\lib\\nanfunctions.py:1113: RuntimeWarning: All-NaN slice encountered\n",
      "  r, k = function_base._ureduce(a, func=_nanmedian, axis=axis, out=out,\n",
      "<ipython-input-4-22cb2c2c7178>:59: RuntimeWarning: Mean of empty slice\n",
      "  velocity_mean = np.nanmean(velocity, axis = 1)\n"
     ]
    },
    {
     "name": "stdout",
     "output_type": "stream",
     "text": [
      "Analysis of: MT02WT, video 03\n",
      "Analysis of: MT02WT, video 04\n",
      "Analysis of: MT02WT, video 05\n",
      "Analysis of: MT02WT, video 06\n",
      "Analysis of: MT02WT, video 07\n",
      "Analysis of: MT02WT, video 08\n"
     ]
    },
    {
     "name": "stderr",
     "output_type": "stream",
     "text": [
      "C:\\Users\\gemmera\\Anaconda3\\lib\\site-packages\\numpy\\lib\\nanfunctions.py:1113: RuntimeWarning: All-NaN slice encountered\n",
      "  r, k = function_base._ureduce(a, func=_nanmedian, axis=axis, out=out,\n",
      "<ipython-input-4-22cb2c2c7178>:59: RuntimeWarning: Mean of empty slice\n",
      "  velocity_mean = np.nanmean(velocity, axis = 1)\n"
     ]
    },
    {
     "name": "stdout",
     "output_type": "stream",
     "text": [
      "Analysis of: MT02WT, video 10\n",
      "Analysis of: MT02WT, video 11\n",
      "Analysis of: MT02WT, video 12\n",
      "Analysis of: MT02WT, video 13\n",
      "Analysis of: MT02WT, video 14\n",
      "Analysis of: MT02WT, video 15\n",
      "Analysis of: MT02WT, video 16\n",
      "Analysis of: MT02WT, video 17\n",
      "Analysis of: MT02WT, video 18\n",
      "Analysis of: MT02WT, video 19\n",
      "Analysis of: MT02WT, video 20\n"
     ]
    },
    {
     "name": "stderr",
     "output_type": "stream",
     "text": [
      "C:\\Users\\gemmera\\Anaconda3\\lib\\site-packages\\numpy\\lib\\nanfunctions.py:1113: RuntimeWarning: All-NaN slice encountered\n",
      "  r, k = function_base._ureduce(a, func=_nanmedian, axis=axis, out=out,\n",
      "<ipython-input-4-22cb2c2c7178>:59: RuntimeWarning: Mean of empty slice\n",
      "  velocity_mean = np.nanmean(velocity, axis = 1)\n"
     ]
    },
    {
     "name": "stdout",
     "output_type": "stream",
     "text": [
      "Analysis of: MT02WT, video 21\n",
      "Analysis of: MT02WT, video 22\n",
      "Analysis of: MT02WT, video 23\n",
      "Analysis of: MT02WT, video 25\n",
      "Analysis of: MT02WT, video 26\n"
     ]
    },
    {
     "name": "stderr",
     "output_type": "stream",
     "text": [
      "C:\\Users\\gemmera\\Anaconda3\\lib\\site-packages\\numpy\\lib\\nanfunctions.py:1113: RuntimeWarning: All-NaN slice encountered\n",
      "  r, k = function_base._ureduce(a, func=_nanmedian, axis=axis, out=out,\n",
      "<ipython-input-4-22cb2c2c7178>:59: RuntimeWarning: Mean of empty slice\n",
      "  velocity_mean = np.nanmean(velocity, axis = 1)\n"
     ]
    },
    {
     "name": "stdout",
     "output_type": "stream",
     "text": [
      "Analysis of: MT02WT, video 29\n"
     ]
    }
   ],
   "source": [
    "range_a = range(0,53970,30)\n",
    "range_b = range(30,54000,30)\n",
    "\n",
    "for genotype in genotypes: \n",
    "    videos2analyse = data_dict[genotype]\n",
    "    for video in videos2analyse:\n",
    "        print('Analysis of: ' + str(genotype) + ', video ' + str(video))\n",
    "        trajectories = np.empty(54000*20*2).reshape(54000,20,2)\n",
    "        bodylengths = np.empty(20)\n",
    "        velocity = np.empty(54000*20).reshape(54000,20)\n",
    "        fish_id = 0\n",
    "        for fishID in fish:\n",
    "            file2load = data_folder + '_' + str(genotype) + '_' + str(video) + '_' + fishID \n",
    "\n",
    "            fish_df = np.load(file2load)\n",
    "            bodylengths[fish_id] = np.median(fish_df['midline_length'])\n",
    "            df_length = (np.shape(fish_df['X']))[0]\n",
    "            if df_length < 54000:\n",
    "                N = 54000 - df_length\n",
    "                x = np.append(fish_df['X'], np.repeat(np.nan, N))\n",
    "                y = np.append(fish_df['Y'], np.repeat(np.nan, N))\n",
    "                trajectories[:,fish_id,0] = x\n",
    "                trajectories[:,fish_id,1] = y\n",
    "                #velocity[:,fish_id] = np.append(fish_df['SPEED']/bodylengths[fish_id], np.repeat(np.nan, N))\n",
    "                velocity[:,fish_id] = np.append(fish_df['SPEED'] , np.repeat(np.nan, N))\n",
    "            elif df_length > 54000:\n",
    "                trajectories[:,fish_id,0] = fish_df['X'][0:54000]\n",
    "                trajectories[:,fish_id,1] = fish_df['Y'][0:54000]\n",
    "                #velocity[:,fish_id] = fish_df['SPEED'][0:54000]/bodylengths[fish_id]  \n",
    "                velocity[:,fish_id] = fish_df['SPEED'][0:54000]\n",
    "            else:\n",
    "                trajectories[:,fish_id,0] = fish_df['X']\n",
    "                trajectories[:,fish_id,1] = fish_df['Y']\n",
    "                #velocity[:,fish_id] = fish_df['SPEED']/bodylengths[fish_id]\n",
    "                velocity[:,fish_id] = fish_df['SPEED']\n",
    "            fish_id += 1\n",
    "        # plot trajectories of all fish \n",
    "        if plot_trajectories:\n",
    "            y = 0\n",
    "            fig,ax = plt.subplots(figsize=(20,10), nrows=3, ncols=7)\n",
    "            ax[2, 6].plot(trajectories[:,:,0], trajectories[:,:,1], linewidth=0.01)\n",
    "            i = 0\n",
    "            for x in range(3):\n",
    "                for y in range(7):\n",
    "                    ax[x,y].plot(trajectories[:,i,0], trajectories[:,i,1], linewidth = 0.1)\n",
    "                    ax[x,y].axis('off')\n",
    "                    ax[x,y].set_title('Fish ' + str(i+1), fontsize = 14, fontweight ='bold') \n",
    "                    i += 1\n",
    "                    if i == 20:\n",
    "                        break\n",
    "            plt.axis('off') \n",
    "            save_string = genotype + '_' + video + '.png'\n",
    "            plt.savefig(save_string)\n",
    "\n",
    "        velocity_median = np.nanmedian(velocity, axis = 1)\n",
    "        # sum up velocity to every second    \n",
    "        vel_sec_median = [np.nansum(velocity_median[i-30:i]) for i in range(30,54000,30)]\n",
    "        \n",
    "        velocity_mean = np.nanmean(velocity, axis = 1)\n",
    "         # sum up velocity to every second    \n",
    "        vel_sec_mean = [np.nansum(velocity_mean[i-30:i]) for i in range(30,54000,30)]\n",
    "        \n",
    "        # perform analysis of distance between fish and polarity:\n",
    "        # distance over time\n",
    "        neighbor_distance = np.empty(1800)\n",
    "        neighbor_min = np.empty(1800)\n",
    "        neighbor_max = np.empty(1800)\n",
    "        a = 0\n",
    "        for frame in range(0,54000,30): # adapt to every second\n",
    "            positionMatrix = pd.DataFrame([trajectories[frame,:,0], trajectories[frame,:,1]]).transpose()\n",
    "            trialMatrix = pd.DataFrame(distance.squareform(distance.pdist(positionMatrix)))\n",
    "            trialMatrix[trialMatrix==0]=np.nan  # set to nan, otherwise the min will identify the same animal.\n",
    "            trialMatrix[trialMatrix==inf]=np.nan\n",
    "            neighbor_distance[a] = np.nanmedian(trialMatrix)\n",
    "            neighbor_min[a] = np.nanmedian(np.nanmin(trialMatrix))\n",
    "            neighbor_max[a] = np.nanmedian(np.nanmax(trialMatrix))\n",
    "            a += 1\n",
    "       # polarity of animals over time this doesn't work too well, requires more work: not in all frames, the animals are detected, resulting in many bad results\n",
    "       # dx = trajectories[range_b,:,0] - trajectories[range_a,:,0]\n",
    "       # dy = trajectories[range_b,:,1] - trajectories[range_a,:,1]\n",
    "       # v0 = np.nansum(((dx**2 + dy**2)**0.5), axis = 1)/(20 - np.sum(np.isnan(dx), axis = 1)) # average absolute velocity normalized by number of fish\n",
    "       # rho = (((np.nansum(dx, axis = 1)**2) + (np.nansum(dy, axis = 1)**2))**0.5) /(v0*(20 - np.sum(np.isnan(dx), axis = 1)))\n",
    "\n",
    "        # save to dictionary:\n",
    "        if 'analysis_dict' not in locals():\n",
    "            analysis_dict = {genotype: {video: {'velocity': vel_sec_median, \n",
    "                                                'velocity_mean': vel_sec_mean,\n",
    "                                                'nearestneighbor': neighbor_min, \n",
    "                                                'neighbor': neighbor_distance,\n",
    "                                                'neighbor_max': neighbor_max,\n",
    "                                                'trajectory': trajectories}}}\n",
    "        elif genotype not in analysis_dict:\n",
    "            analysis_dict[genotype] = {video: {'velocity': vel_sec_median, \n",
    "                                               'velocity_mean': vel_sec_mean,\n",
    "                                               'nearestneighbor': neighbor_min, \n",
    "                                               'neighbor': neighbor_distance,\n",
    "                                               'neighbor_max': neighbor_max,\n",
    "                                               'trajectory': trajectories}}\n",
    "        else:\n",
    "            analysis_dict[genotype][video] = {'velocity': vel_sec_median, \n",
    "                                              'velocity_mean': vel_sec_mean,\n",
    "                                              'nearestneighbor': neighbor_min, \n",
    "                                              'neighbor': neighbor_distance,\n",
    "                                              'neighbor_max': neighbor_max,\n",
    "                                              'trajectory': trajectories}\n"
   ]
  },
  {
   "cell_type": "markdown",
   "metadata": {},
   "source": [
    "Save output below"
   ]
  },
  {
   "cell_type": "code",
   "execution_count": 5,
   "metadata": {},
   "outputs": [],
   "source": [
    "if age_to_be_analysed == 28:\n",
    "    analysis_df_28dpf = pd.DataFrame.from_dict({(i,j): analysis_dict[i][j] \n",
    "                           for i in analysis_dict.keys() \n",
    "                           for j in analysis_dict[i].keys()},\n",
    "                       orient='index')\n",
    "    analysis_df_28dpf.to_pickle('TRex_analysis_28dpf.pkl')\n",
    "    output = open('TRex_analysis_28dpf.pkl', 'wb')\n",
    "    \n",
    "elif age_to_be_analysed == 56:\n",
    "    analysis_df_56dpf = pd.DataFrame.from_dict({(i,j): analysis_dict[i][j] \n",
    "                           for i in analysis_dict.keys() \n",
    "                           for j in analysis_dict[i].keys()},\n",
    "                       orient='index')\n",
    "    analysis_df_56dpf.to_pickle('TRex_analysis_56dpf.pkl')\n",
    "    output = open('TRex_analysis_56dpf.pkl', 'wb')\n",
    "\n",
    "pickle.dump(analysis_dict, output)\n",
    "output.close()\n"
   ]
  },
  {
   "cell_type": "code",
   "execution_count": null,
   "metadata": {},
   "outputs": [],
   "source": []
  }
 ],
 "metadata": {
  "kernelspec": {
   "display_name": "Python 3",
   "language": "python",
   "name": "python3"
  },
  "language_info": {
   "codemirror_mode": {
    "name": "ipython",
    "version": 3
   },
   "file_extension": ".py",
   "mimetype": "text/x-python",
   "name": "python",
   "nbconvert_exporter": "python",
   "pygments_lexer": "ipython3",
   "version": "3.8.5"
  }
 },
 "nbformat": 4,
 "nbformat_minor": 4
}
